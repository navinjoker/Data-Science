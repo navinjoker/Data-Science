{
 "cells": [
  {
   "cell_type": "markdown",
   "id": "79b3cdc8",
   "metadata": {},
   "source": [
    "# EDA and Feature Engg for Regression \n",
    "\n",
    "##  Problem statement - Prediction of Insurance Charges\n",
    "\n",
    "### Note:- For any data science and machine learning project, understanding the exact problem statement is mandatory. It is the lone factor that will take direct the proceedings of complete lifecycle of the project.\n",
    "\n",
    "### The work flow begins with understanding the problem that is being addressed. Followed by collection of data.\n",
    "\n",
    "#### The collected data may have some impurities due to various reasons. Exploratory Data Analysis deals with understanding the data insights and handling the impurities existing in the data. The backbone of the project i.e. EDA clearly depicts the quality of the output of the project.\n",
    "\n",
    "\n",
    "\n",
    "##### Importing basic libraries.\n"
   ]
  },
  {
   "cell_type": "code",
   "execution_count": 1,
   "id": "cbe79398",
   "metadata": {},
   "outputs": [],
   "source": [
    "import pandas as pd\n",
    "import numpy as np\n",
    "from matplotlib import pyplot as plt\n",
    "from scipy import stats as st\n",
    "import seaborn as sns\n",
    "%matplotlib inline"
   ]
  },
  {
   "cell_type": "markdown",
   "id": "c50e8b22",
   "metadata": {},
   "source": [
    "###### Reading the file"
   ]
  },
  {
   "cell_type": "code",
   "execution_count": 2,
   "id": "5f635d0f",
   "metadata": {},
   "outputs": [],
   "source": [
    "x=pd.read_csv('insurance.csv')"
   ]
  },
  {
   "cell_type": "markdown",
   "id": "29f734b9",
   "metadata": {},
   "source": [
    "## Understanding the data\n",
    "### Overview head and bottem of the spreadsheet"
   ]
  },
  {
   "cell_type": "code",
   "execution_count": 3,
   "id": "5db9b2a9",
   "metadata": {},
   "outputs": [
    {
     "data": {
      "text/html": [
       "<div>\n",
       "<style scoped>\n",
       "    .dataframe tbody tr th:only-of-type {\n",
       "        vertical-align: middle;\n",
       "    }\n",
       "\n",
       "    .dataframe tbody tr th {\n",
       "        vertical-align: top;\n",
       "    }\n",
       "\n",
       "    .dataframe thead th {\n",
       "        text-align: right;\n",
       "    }\n",
       "</style>\n",
       "<table border=\"1\" class=\"dataframe\">\n",
       "  <thead>\n",
       "    <tr style=\"text-align: right;\">\n",
       "      <th></th>\n",
       "      <th>age</th>\n",
       "      <th>sex</th>\n",
       "      <th>bmi</th>\n",
       "      <th>children</th>\n",
       "      <th>smoker</th>\n",
       "      <th>region</th>\n",
       "      <th>charges</th>\n",
       "    </tr>\n",
       "  </thead>\n",
       "  <tbody>\n",
       "    <tr>\n",
       "      <th>0</th>\n",
       "      <td>19</td>\n",
       "      <td>0</td>\n",
       "      <td>27.900</td>\n",
       "      <td>0</td>\n",
       "      <td>1</td>\n",
       "      <td>southwest</td>\n",
       "      <td>16884.92400</td>\n",
       "    </tr>\n",
       "    <tr>\n",
       "      <th>1</th>\n",
       "      <td>18</td>\n",
       "      <td>1</td>\n",
       "      <td>33.770</td>\n",
       "      <td>1</td>\n",
       "      <td>0</td>\n",
       "      <td>southeast</td>\n",
       "      <td>1725.55230</td>\n",
       "    </tr>\n",
       "    <tr>\n",
       "      <th>2</th>\n",
       "      <td>28</td>\n",
       "      <td>1</td>\n",
       "      <td>33.000</td>\n",
       "      <td>3</td>\n",
       "      <td>0</td>\n",
       "      <td>southeast</td>\n",
       "      <td>4449.46200</td>\n",
       "    </tr>\n",
       "    <tr>\n",
       "      <th>3</th>\n",
       "      <td>33</td>\n",
       "      <td>1</td>\n",
       "      <td>22.705</td>\n",
       "      <td>0</td>\n",
       "      <td>0</td>\n",
       "      <td>northwest</td>\n",
       "      <td>21984.47061</td>\n",
       "    </tr>\n",
       "    <tr>\n",
       "      <th>4</th>\n",
       "      <td>32</td>\n",
       "      <td>1</td>\n",
       "      <td>28.880</td>\n",
       "      <td>0</td>\n",
       "      <td>0</td>\n",
       "      <td>northwest</td>\n",
       "      <td>3866.85520</td>\n",
       "    </tr>\n",
       "    <tr>\n",
       "      <th>5</th>\n",
       "      <td>31</td>\n",
       "      <td>0</td>\n",
       "      <td>25.740</td>\n",
       "      <td>0</td>\n",
       "      <td>0</td>\n",
       "      <td>southeast</td>\n",
       "      <td>3756.62160</td>\n",
       "    </tr>\n",
       "  </tbody>\n",
       "</table>\n",
       "</div>"
      ],
      "text/plain": [
       "   age  sex     bmi  children  smoker     region      charges\n",
       "0   19    0  27.900         0       1  southwest  16884.92400\n",
       "1   18    1  33.770         1       0  southeast   1725.55230\n",
       "2   28    1  33.000         3       0  southeast   4449.46200\n",
       "3   33    1  22.705         0       0  northwest  21984.47061\n",
       "4   32    1  28.880         0       0  northwest   3866.85520\n",
       "5   31    0  25.740         0       0  southeast   3756.62160"
      ]
     },
     "execution_count": 3,
     "metadata": {},
     "output_type": "execute_result"
    }
   ],
   "source": [
    "x.head(6)"
   ]
  },
  {
   "cell_type": "code",
   "execution_count": 4,
   "id": "16b9269e",
   "metadata": {},
   "outputs": [
    {
     "data": {
      "text/html": [
       "<div>\n",
       "<style scoped>\n",
       "    .dataframe tbody tr th:only-of-type {\n",
       "        vertical-align: middle;\n",
       "    }\n",
       "\n",
       "    .dataframe tbody tr th {\n",
       "        vertical-align: top;\n",
       "    }\n",
       "\n",
       "    .dataframe thead th {\n",
       "        text-align: right;\n",
       "    }\n",
       "</style>\n",
       "<table border=\"1\" class=\"dataframe\">\n",
       "  <thead>\n",
       "    <tr style=\"text-align: right;\">\n",
       "      <th></th>\n",
       "      <th>age</th>\n",
       "      <th>sex</th>\n",
       "      <th>bmi</th>\n",
       "      <th>children</th>\n",
       "      <th>smoker</th>\n",
       "      <th>region</th>\n",
       "      <th>charges</th>\n",
       "    </tr>\n",
       "  </thead>\n",
       "  <tbody>\n",
       "    <tr>\n",
       "      <th>1335</th>\n",
       "      <td>18</td>\n",
       "      <td>0</td>\n",
       "      <td>36.85</td>\n",
       "      <td>0</td>\n",
       "      <td>0</td>\n",
       "      <td>southeast</td>\n",
       "      <td>1629.8335</td>\n",
       "    </tr>\n",
       "    <tr>\n",
       "      <th>1336</th>\n",
       "      <td>21</td>\n",
       "      <td>0</td>\n",
       "      <td>25.80</td>\n",
       "      <td>0</td>\n",
       "      <td>0</td>\n",
       "      <td>southwest</td>\n",
       "      <td>2007.9450</td>\n",
       "    </tr>\n",
       "    <tr>\n",
       "      <th>1337</th>\n",
       "      <td>61</td>\n",
       "      <td>0</td>\n",
       "      <td>29.07</td>\n",
       "      <td>0</td>\n",
       "      <td>1</td>\n",
       "      <td>northwest</td>\n",
       "      <td>29141.3603</td>\n",
       "    </tr>\n",
       "  </tbody>\n",
       "</table>\n",
       "</div>"
      ],
      "text/plain": [
       "      age  sex    bmi  children  smoker     region     charges\n",
       "1335   18    0  36.85         0       0  southeast   1629.8335\n",
       "1336   21    0  25.80         0       0  southwest   2007.9450\n",
       "1337   61    0  29.07         0       1  northwest  29141.3603"
      ]
     },
     "execution_count": 4,
     "metadata": {},
     "output_type": "execute_result"
    }
   ],
   "source": [
    "x.tail(3)"
   ]
  },
  {
   "cell_type": "markdown",
   "id": "01c770db",
   "metadata": {},
   "source": [
    "## The Quantum of data"
   ]
  },
  {
   "cell_type": "code",
   "execution_count": 5,
   "id": "1f0f910b",
   "metadata": {},
   "outputs": [
    {
     "data": {
      "text/plain": [
       "(1338, 7)"
      ]
     },
     "execution_count": 5,
     "metadata": {},
     "output_type": "execute_result"
    }
   ],
   "source": [
    "x.shape"
   ]
  },
  {
   "cell_type": "code",
   "execution_count": 6,
   "id": "30edfdd8",
   "metadata": {},
   "outputs": [
    {
     "data": {
      "text/plain": [
       "9366"
      ]
     },
     "execution_count": 6,
     "metadata": {},
     "output_type": "execute_result"
    }
   ],
   "source": [
    "x.size"
   ]
  },
  {
   "cell_type": "markdown",
   "id": "dbb8f7c1",
   "metadata": {},
   "source": [
    "## Beginning with basic understaing of data\n",
    "### Features and target informations"
   ]
  },
  {
   "cell_type": "code",
   "execution_count": 7,
   "id": "82d9ee88",
   "metadata": {},
   "outputs": [
    {
     "data": {
      "text/plain": [
       "Index(['age', 'sex', 'bmi', 'children', 'smoker', 'region', 'charges'], dtype='object')"
      ]
     },
     "execution_count": 7,
     "metadata": {},
     "output_type": "execute_result"
    }
   ],
   "source": [
    "x.columns"
   ]
  },
  {
   "cell_type": "code",
   "execution_count": 8,
   "id": "aa2d1198",
   "metadata": {},
   "outputs": [
    {
     "name": "stdout",
     "output_type": "stream",
     "text": [
      "<class 'pandas.core.frame.DataFrame'>\n",
      "RangeIndex: 1338 entries, 0 to 1337\n",
      "Data columns (total 7 columns):\n",
      " #   Column    Non-Null Count  Dtype  \n",
      "---  ------    --------------  -----  \n",
      " 0   age       1338 non-null   int64  \n",
      " 1   sex       1338 non-null   int64  \n",
      " 2   bmi       1338 non-null   float64\n",
      " 3   children  1338 non-null   int64  \n",
      " 4   smoker    1338 non-null   int64  \n",
      " 5   region    1338 non-null   object \n",
      " 6   charges   1338 non-null   float64\n",
      "dtypes: float64(2), int64(4), object(1)\n",
      "memory usage: 73.3+ KB\n"
     ]
    }
   ],
   "source": [
    "x.info()"
   ]
  },
  {
   "cell_type": "markdown",
   "id": "3d8dfbbd",
   "metadata": {},
   "source": [
    "### From above it is noted about the features with understanding the type of data:\n",
    "    The data contains no null values\n",
    "    All the features and tragets are numeric values with int or float datatypes except the region which is object.\n",
    "    lets understand the deeper insights of these feature."
   ]
  },
  {
   "cell_type": "code",
   "execution_count": 9,
   "id": "43f83344",
   "metadata": {},
   "outputs": [
    {
     "name": "stdout",
     "output_type": "stream",
     "text": [
      "age - 47\n",
      "sex - 2\n",
      "bmi - 548\n",
      "children - 6\n",
      "smoker - 2\n",
      "region - 4\n",
      "charges - 1337\n"
     ]
    }
   ],
   "source": [
    "for i in x:\n",
    "    print(i,\"-\",len(x[i].unique()))\n",
    "    "
   ]
  },
  {
   "cell_type": "markdown",
   "id": "576f933c",
   "metadata": {},
   "source": [
    "### Observations:\n",
    "The point to be noted is the features have following demography:\n",
    "    (i) Age - is discrete feature in int datatype\n",
    "    (ii) sex - is boolian feature in int datatype (encoded)\n",
    "    (iii) bmi- is continous feature in float datatype  \n",
    "    (iv) children - is discrete feature in int datatype\n",
    "    (v) smoker - is boolian feature in int datatype (encoded)\n",
    "    (vi) region - is categorical feature in object datatype \n",
    "    \n",
    "The Target variable charges is continous with float datatype\n",
    "    "
   ]
  },
  {
   "cell_type": "code",
   "execution_count": 10,
   "id": "848fee76",
   "metadata": {},
   "outputs": [
    {
     "data": {
      "text/plain": [
       "age         0\n",
       "sex         0\n",
       "bmi         0\n",
       "children    0\n",
       "smoker      0\n",
       "region      0\n",
       "charges     0\n",
       "dtype: int64"
      ]
     },
     "execution_count": 10,
     "metadata": {},
     "output_type": "execute_result"
    }
   ],
   "source": [
    "x.isnull().sum()"
   ]
  },
  {
   "cell_type": "markdown",
   "id": "8bfa744c",
   "metadata": {},
   "source": [
    "#### Observation :\n",
    "    As seen from above no feature or target have a missing value"
   ]
  },
  {
   "cell_type": "markdown",
   "id": "080f46c2",
   "metadata": {},
   "source": [
    "### Stastistical information in the data"
   ]
  },
  {
   "cell_type": "code",
   "execution_count": 11,
   "id": "825d2b20",
   "metadata": {},
   "outputs": [
    {
     "data": {
      "text/html": [
       "<div>\n",
       "<style scoped>\n",
       "    .dataframe tbody tr th:only-of-type {\n",
       "        vertical-align: middle;\n",
       "    }\n",
       "\n",
       "    .dataframe tbody tr th {\n",
       "        vertical-align: top;\n",
       "    }\n",
       "\n",
       "    .dataframe thead th {\n",
       "        text-align: right;\n",
       "    }\n",
       "</style>\n",
       "<table border=\"1\" class=\"dataframe\">\n",
       "  <thead>\n",
       "    <tr style=\"text-align: right;\">\n",
       "      <th></th>\n",
       "      <th>age</th>\n",
       "      <th>sex</th>\n",
       "      <th>bmi</th>\n",
       "      <th>children</th>\n",
       "      <th>smoker</th>\n",
       "      <th>charges</th>\n",
       "    </tr>\n",
       "  </thead>\n",
       "  <tbody>\n",
       "    <tr>\n",
       "      <th>count</th>\n",
       "      <td>1338.000000</td>\n",
       "      <td>1338.000000</td>\n",
       "      <td>1338.000000</td>\n",
       "      <td>1338.000000</td>\n",
       "      <td>1338.000000</td>\n",
       "      <td>1338.000000</td>\n",
       "    </tr>\n",
       "    <tr>\n",
       "      <th>mean</th>\n",
       "      <td>39.207025</td>\n",
       "      <td>0.505232</td>\n",
       "      <td>30.663397</td>\n",
       "      <td>1.094918</td>\n",
       "      <td>0.204783</td>\n",
       "      <td>13270.422265</td>\n",
       "    </tr>\n",
       "    <tr>\n",
       "      <th>std</th>\n",
       "      <td>14.049960</td>\n",
       "      <td>0.500160</td>\n",
       "      <td>6.098187</td>\n",
       "      <td>1.205493</td>\n",
       "      <td>0.403694</td>\n",
       "      <td>12110.011237</td>\n",
       "    </tr>\n",
       "    <tr>\n",
       "      <th>min</th>\n",
       "      <td>18.000000</td>\n",
       "      <td>0.000000</td>\n",
       "      <td>15.960000</td>\n",
       "      <td>0.000000</td>\n",
       "      <td>0.000000</td>\n",
       "      <td>1121.873900</td>\n",
       "    </tr>\n",
       "    <tr>\n",
       "      <th>25%</th>\n",
       "      <td>27.000000</td>\n",
       "      <td>0.000000</td>\n",
       "      <td>26.296250</td>\n",
       "      <td>0.000000</td>\n",
       "      <td>0.000000</td>\n",
       "      <td>4740.287150</td>\n",
       "    </tr>\n",
       "    <tr>\n",
       "      <th>50%</th>\n",
       "      <td>39.000000</td>\n",
       "      <td>1.000000</td>\n",
       "      <td>30.400000</td>\n",
       "      <td>1.000000</td>\n",
       "      <td>0.000000</td>\n",
       "      <td>9382.033000</td>\n",
       "    </tr>\n",
       "    <tr>\n",
       "      <th>75%</th>\n",
       "      <td>51.000000</td>\n",
       "      <td>1.000000</td>\n",
       "      <td>34.693750</td>\n",
       "      <td>2.000000</td>\n",
       "      <td>0.000000</td>\n",
       "      <td>16639.912515</td>\n",
       "    </tr>\n",
       "    <tr>\n",
       "      <th>max</th>\n",
       "      <td>64.000000</td>\n",
       "      <td>1.000000</td>\n",
       "      <td>53.130000</td>\n",
       "      <td>5.000000</td>\n",
       "      <td>1.000000</td>\n",
       "      <td>63770.428010</td>\n",
       "    </tr>\n",
       "  </tbody>\n",
       "</table>\n",
       "</div>"
      ],
      "text/plain": [
       "               age          sex          bmi     children       smoker  \\\n",
       "count  1338.000000  1338.000000  1338.000000  1338.000000  1338.000000   \n",
       "mean     39.207025     0.505232    30.663397     1.094918     0.204783   \n",
       "std      14.049960     0.500160     6.098187     1.205493     0.403694   \n",
       "min      18.000000     0.000000    15.960000     0.000000     0.000000   \n",
       "25%      27.000000     0.000000    26.296250     0.000000     0.000000   \n",
       "50%      39.000000     1.000000    30.400000     1.000000     0.000000   \n",
       "75%      51.000000     1.000000    34.693750     2.000000     0.000000   \n",
       "max      64.000000     1.000000    53.130000     5.000000     1.000000   \n",
       "\n",
       "            charges  \n",
       "count   1338.000000  \n",
       "mean   13270.422265  \n",
       "std    12110.011237  \n",
       "min     1121.873900  \n",
       "25%     4740.287150  \n",
       "50%     9382.033000  \n",
       "75%    16639.912515  \n",
       "max    63770.428010  "
      ]
     },
     "execution_count": 11,
     "metadata": {},
     "output_type": "execute_result"
    }
   ],
   "source": [
    "x.describe()"
   ]
  },
  {
   "cell_type": "markdown",
   "id": "7d9ea289",
   "metadata": {},
   "source": [
    "### Understading the distributions of quantitative variables and target"
   ]
  },
  {
   "cell_type": "code",
   "execution_count": 12,
   "id": "50cc5ff3",
   "metadata": {},
   "outputs": [
    {
     "data": {
      "text/plain": [
       "<seaborn.axisgrid.FacetGrid at 0x21079533610>"
      ]
     },
     "execution_count": 12,
     "metadata": {},
     "output_type": "execute_result"
    },
    {
     "data": {
      "image/png": "[encoded data removed]",
      "text/plain": [
       "<Figure size 360x360 with 1 Axes>"
      ]
     },
     "metadata": {
      "needs_background": "light"
     },
     "output_type": "display_data"
    },
    {
     "data": {
      "image/png": "[encoded data removed]",
      "text/plain": [
       "<Figure size 360x360 with 1 Axes>"
      ]
     },
     "metadata": {
      "needs_background": "light"
     },
     "output_type": "display_data"
    }
   ],
   "source": [
    "sns.displot(x['age'],bins=10,kde=True)\n",
    "sns.displot(x['bmi'],bins=10,kde=True)"
   ]
  },
  {
   "cell_type": "code",
   "execution_count": 13,
   "id": "f22a9d6c",
   "metadata": {},
   "outputs": [
    {
     "data": {
      "text/plain": [
       "<seaborn.axisgrid.FacetGrid at 0x2107c54df10>"
      ]
     },
     "execution_count": 13,
     "metadata": {},
     "output_type": "execute_result"
    },
    {
     "data": {
      "image/png": "[encoded data removed]",
      "text/plain": [
       "<Figure size 360x360 with 1 Axes>"
      ]
     },
     "metadata": {
      "needs_background": "light"
     },
     "output_type": "display_data"
    }
   ],
   "source": [
    "sns.displot(x['charges'],bins=10,kde=True)"
   ]
  },
  {
   "cell_type": "markdown",
   "id": "252b7009",
   "metadata": {},
   "source": [
    "## Understanding the correlation between target and other variables."
   ]
  },
  {
   "cell_type": "code",
   "execution_count": 14,
   "id": "7dc246da",
   "metadata": {},
   "outputs": [
    {
     "data": {
      "text/html": [
       "<div>\n",
       "<style scoped>\n",
       "    .dataframe tbody tr th:only-of-type {\n",
       "        vertical-align: middle;\n",
       "    }\n",
       "\n",
       "    .dataframe tbody tr th {\n",
       "        vertical-align: top;\n",
       "    }\n",
       "\n",
       "    .dataframe thead th {\n",
       "        text-align: right;\n",
       "    }\n",
       "</style>\n",
       "<table border=\"1\" class=\"dataframe\">\n",
       "  <thead>\n",
       "    <tr style=\"text-align: right;\">\n",
       "      <th></th>\n",
       "      <th>age</th>\n",
       "      <th>sex</th>\n",
       "      <th>bmi</th>\n",
       "      <th>children</th>\n",
       "      <th>smoker</th>\n",
       "      <th>charges</th>\n",
       "    </tr>\n",
       "  </thead>\n",
       "  <tbody>\n",
       "    <tr>\n",
       "      <th>age</th>\n",
       "      <td>1.000000</td>\n",
       "      <td>-0.020856</td>\n",
       "      <td>0.109272</td>\n",
       "      <td>0.042469</td>\n",
       "      <td>-0.025019</td>\n",
       "      <td>0.299008</td>\n",
       "    </tr>\n",
       "    <tr>\n",
       "      <th>sex</th>\n",
       "      <td>-0.020856</td>\n",
       "      <td>1.000000</td>\n",
       "      <td>0.046371</td>\n",
       "      <td>0.017163</td>\n",
       "      <td>0.076185</td>\n",
       "      <td>0.057292</td>\n",
       "    </tr>\n",
       "    <tr>\n",
       "      <th>bmi</th>\n",
       "      <td>0.109272</td>\n",
       "      <td>0.046371</td>\n",
       "      <td>1.000000</td>\n",
       "      <td>0.012759</td>\n",
       "      <td>0.003750</td>\n",
       "      <td>0.198341</td>\n",
       "    </tr>\n",
       "    <tr>\n",
       "      <th>children</th>\n",
       "      <td>0.042469</td>\n",
       "      <td>0.017163</td>\n",
       "      <td>0.012759</td>\n",
       "      <td>1.000000</td>\n",
       "      <td>0.007673</td>\n",
       "      <td>0.067998</td>\n",
       "    </tr>\n",
       "    <tr>\n",
       "      <th>smoker</th>\n",
       "      <td>-0.025019</td>\n",
       "      <td>0.076185</td>\n",
       "      <td>0.003750</td>\n",
       "      <td>0.007673</td>\n",
       "      <td>1.000000</td>\n",
       "      <td>0.787251</td>\n",
       "    </tr>\n",
       "    <tr>\n",
       "      <th>charges</th>\n",
       "      <td>0.299008</td>\n",
       "      <td>0.057292</td>\n",
       "      <td>0.198341</td>\n",
       "      <td>0.067998</td>\n",
       "      <td>0.787251</td>\n",
       "      <td>1.000000</td>\n",
       "    </tr>\n",
       "  </tbody>\n",
       "</table>\n",
       "</div>"
      ],
      "text/plain": [
       "               age       sex       bmi  children    smoker   charges\n",
       "age       1.000000 -0.020856  0.109272  0.042469 -0.025019  0.299008\n",
       "sex      -0.020856  1.000000  0.046371  0.017163  0.076185  0.057292\n",
       "bmi       0.109272  0.046371  1.000000  0.012759  0.003750  0.198341\n",
       "children  0.042469  0.017163  0.012759  1.000000  0.007673  0.067998\n",
       "smoker   -0.025019  0.076185  0.003750  0.007673  1.000000  0.787251\n",
       "charges   0.299008  0.057292  0.198341  0.067998  0.787251  1.000000"
      ]
     },
     "execution_count": 14,
     "metadata": {},
     "output_type": "execute_result"
    }
   ],
   "source": [
    "x.corr()"
   ]
  },
  {
   "cell_type": "markdown",
   "id": "738f9ad4",
   "metadata": {},
   "source": [
    "#### Correlation observations:\n",
    "    Only the Smoker attribute which is boolian is correlated to charges.\n",
    "    Other variables have very less impact on the charges (may it be positive or negative).\n",
    "    \n",
    "### Some domain knowledge suggests some strong relation of Age and BMI on charges which can not be seen from the data. However, data confirms the relationship of smoking on insurance charges.\n",
    "\n"
   ]
  },
  {
   "cell_type": "markdown",
   "id": "2883331f",
   "metadata": {},
   "source": [
    "\n",
    "\n",
    "### Attempting some visualisations to establish any relationship "
   ]
  },
  {
   "cell_type": "code",
   "execution_count": 15,
   "id": "5b8231fb",
   "metadata": {},
   "outputs": [],
   "source": [
    "a1 = range(0,70)\n",
    "a2 = range (0,70)\n",
    "m2,c2,r2,p2,e2 =st.linregress(x.bmi,x.charges)\n",
    "m1,c1,r1,p1,e1 =st.linregress(x.age,x.charges)\n",
    "b1=c1+m1*a1\n",
    "b2=c2+m2*a2\n",
    "a1,b1=st.pearsonr(x.age,x.charges)\n",
    "a2,b2=st.pearsonr(x.bmi,x.charges)"
   ]
  },
  {
   "cell_type": "code",
   "execution_count": 16,
   "id": "f3566f7d",
   "metadata": {},
   "outputs": [
    {
     "data": {
      "image/png": "[encoded data removed]",
      "text/plain": [
       "<Figure size 432x288 with 1 Axes>"
      ]
     },
     "metadata": {
      "needs_background": "light"
     },
     "output_type": "display_data"
    }
   ],
   "source": [
    "plt.plot(a1,b1,color='red')\n",
    "plt.plot(a2,b2,color='green')\n",
    "plt.scatter(x.bmi,x.charges)\n",
    "plt.scatter(x.age,x.charges)\n",
    "plt.title('Charges Vs BMI Vs Age')\n",
    "plt.xlabel('Age & BMI')\n",
    "plt.ylabel('Charges')\n",
    "plt.show()"
   ]
  },
  {
   "cell_type": "code",
   "execution_count": 17,
   "id": "9c7dfc34",
   "metadata": {},
   "outputs": [
    {
     "data": {
      "image/png": "[encoded data removed]",
      "text/plain": [
       "<Figure size 432x288 with 1 Axes>"
      ]
     },
     "metadata": {
      "needs_background": "light"
     },
     "output_type": "display_data"
    }
   ],
   "source": [
    "plt.scatter(x.age,x.charges)\n",
    "plt.plot(a1,b1,color='red')\n",
    "plt.ylabel('Charges')\n",
    "plt.xlabel('Age')\n",
    "plt.title('Age Vs Charges')\n",
    "plt.show()"
   ]
  },
  {
   "cell_type": "code",
   "execution_count": 18,
   "id": "5ed88b02",
   "metadata": {},
   "outputs": [
    {
     "data": {
      "image/png": "[encoded data removed]",
      "text/plain": [
       "<Figure size 432x288 with 1 Axes>"
      ]
     },
     "metadata": {
      "needs_background": "light"
     },
     "output_type": "display_data"
    }
   ],
   "source": [
    "plt.plot(a2,b2,color='green')\n",
    "plt.scatter(x.bmi,x.charges,color='orange')\n",
    "plt.xlabel('BMI')\n",
    "plt.ylabel('Charges')\n",
    "plt.title('BMI Vs Charges')\n",
    "plt.show()"
   ]
  },
  {
   "cell_type": "markdown",
   "id": "46088e03",
   "metadata": {},
   "source": [
    "### trying to fit lines on all the variable with statistical analysis"
   ]
  },
  {
   "cell_type": "code",
   "execution_count": 19,
   "id": "82833b40",
   "metadata": {},
   "outputs": [],
   "source": [
    "x_n=x[x['smoker']==0]\n",
    "x_s=x[x['smoker']==1]\n",
    "an1,bn1=st.pearsonr(x_n.age,x_n.charges)\n",
    "as1,bs1=st.pearsonr(x_s.age,x_s.charges)\n",
    "an2,bn2=st.pearsonr(x_n.bmi,x_n.charges)\n",
    "as2,bs2=st.pearsonr(x_s.bmi,x_s.charges)\n",
    "mn1,cn1,rn1,pn1,en1 =st.linregress(x_n.age,x_n.charges)\n",
    "mn2,cn2,rn2,pn2,en2 =st.linregress(x_n.bmi,x_n.charges)\n",
    "ms1,cs1,rs1,ps1,es1 =st.linregress(x_s.age,x_s.charges)\n",
    "ms2,cs2,rs2,ps2,es2 =st.linregress(x_s.bmi,x_s.charges)\n",
    "an1 = range(15,70)\n",
    "as1 = range (15,70)\n",
    "an2 = range(15,70)\n",
    "as2 = range (15,70)\n",
    "bn1=cn1+mn1*an1\n",
    "bn2=cn2+mn2*an1\n",
    "bs1=cs1+ms1*as1\n",
    "bs2=cs2+ms2*as2\n"
   ]
  },
  {
   "cell_type": "code",
   "execution_count": 20,
   "id": "f56a1cb4",
   "metadata": {},
   "outputs": [
    {
     "data": {
      "image/png": "[encoded data removed]",
      "text/plain": [
       "<Figure size 432x288 with 1 Axes>"
      ]
     },
     "metadata": {
      "needs_background": "light"
     },
     "output_type": "display_data"
    }
   ],
   "source": [
    "plt.plot(an1,bn1,color='green')\n",
    "plt.plot(an2,bn2,color='magenta')\n",
    "plt.plot(as2,bs2,color='red')\n",
    "plt.plot(as1,bs1,color='purple')\n",
    "plt.scatter(x_n.age,x_n.charges,label='Non-smokers')\n",
    "plt.scatter(x_s.age,x_s.charges,label='Smokers')\n",
    "plt.scatter(x_n.bmi,x_n.charges,label='Non-smokers')\n",
    "plt.scatter(x_s.bmi,x_s.charges,label='Smokers')\n",
    "plt.ylabel('Charges')\n",
    "plt.xlabel('Age')\n",
    "plt.title('Age Vs Charges')\n",
    "plt.legend()\n",
    "plt.show()"
   ]
  },
  {
   "cell_type": "markdown",
   "id": "3d56d3a4",
   "metadata": {},
   "source": [
    "## No visualisation clearly depicts powerful insight."
   ]
  },
  {
   "cell_type": "markdown",
   "id": "fe14fb80",
   "metadata": {},
   "source": [
    "### lets perform simple scatter of the target vs all other variable with smoker as hue."
   ]
  },
  {
   "cell_type": "code",
   "execution_count": 21,
   "id": "2677d59f",
   "metadata": {},
   "outputs": [
    {
     "name": "stderr",
     "output_type": "stream",
     "text": [
      "C:\\Users\\91730\\anaconda3\\lib\\site-packages\\seaborn\\_decorators.py:36: FutureWarning: Pass the following variables as keyword args: x, y. From version 0.12, the only valid positional argument will be `data`, and passing other arguments without an explicit keyword will result in an error or misinterpretation.\n",
      "  warnings.warn(\n"
     ]
    },
    {
     "data": {
      "text/plain": [
       "<AxesSubplot:xlabel='age', ylabel='charges'>"
      ]
     },
     "execution_count": 21,
     "metadata": {},
     "output_type": "execute_result"
    },
    {
     "data": {
      "image/png": "[encoded data removed]",
      "text/plain": [
       "<Figure size 432x288 with 1 Axes>"
      ]
     },
     "metadata": {
      "needs_background": "light"
     },
     "output_type": "display_data"
    }
   ],
   "source": [
    "sns.scatterplot(x.age,x.charges,hue=x.bmi,alpha=0.7,style=x.smoker)"
   ]
  },
  {
   "cell_type": "markdown",
   "id": "13e59741",
   "metadata": {},
   "source": [
    "### Above visualisation clearly depicts the linear relationship of age to charges with factors like smoking and BMI affecting the increase or decrease in insurance charges."
   ]
  },
  {
   "cell_type": "markdown",
   "id": "7b4a49f2",
   "metadata": {},
   "source": [
    "\n",
    "\n",
    "\n",
    "## Lets attempt linear model and try to find accuracy metrics to establish the same.\n",
    "\n",
    "\n",
    "\n",
    "### point to note is the data is cleaned and features are ready for model creation\n",
    "\n"
   ]
  },
  {
   "cell_type": "code",
   "execution_count": 22,
   "id": "34dccd2a",
   "metadata": {},
   "outputs": [],
   "source": [
    "from sklearn.preprocessing import StandardScaler\n",
    "from sklearn.linear_model import ElasticNetCV\n",
    "from sklearn.model_selection import train_test_split"
   ]
  },
  {
   "cell_type": "code",
   "execution_count": 23,
   "id": "59599b29",
   "metadata": {},
   "outputs": [],
   "source": [
    "X=x.drop(['charges','region'],axis=1)\n",
    "y=x.charges   "
   ]
  },
  {
   "cell_type": "markdown",
   "id": "84235add",
   "metadata": {},
   "source": [
    "##### train test split"
   ]
  },
  {
   "cell_type": "code",
   "execution_count": 24,
   "id": "58c7206e",
   "metadata": {},
   "outputs": [],
   "source": [
    "X_train, X_test, y_train, y_test = train_test_split(X,y,test_size=0.25,random_state=105)"
   ]
  },
  {
   "cell_type": "markdown",
   "id": "dd4cf8d8",
   "metadata": {},
   "source": [
    "###### standardisation"
   ]
  },
  {
   "cell_type": "code",
   "execution_count": 25,
   "id": "779761f5",
   "metadata": {},
   "outputs": [
    {
     "data": {
      "text/plain": [
       "StandardScaler()"
      ]
     },
     "execution_count": 25,
     "metadata": {},
     "output_type": "execute_result"
    }
   ],
   "source": [
    "scale=StandardScaler()\n",
    "scale.fit (X_train, y_train)\n"
   ]
  },
  {
   "cell_type": "code",
   "execution_count": 26,
   "id": "4a805332",
   "metadata": {},
   "outputs": [
    {
     "data": {
      "text/plain": [
       "array([[ 0.92401256,  0.99701343,  1.00287548,  0.75710525, -0.49906513],\n",
       "       [ 0.85206841,  0.99701343,  0.87314283, -0.07829251, -0.49906513],\n",
       "       [-0.37098222,  0.99701343,  0.58593597, -0.91369028, -0.49906513],\n",
       "       ...,\n",
       "       [-0.65875884,  0.99701343,  0.1273841 , -0.07829251, -0.49906513],\n",
       "       [-1.5220887 ,  0.99701343,  2.02197028, -0.91369028, -0.49906513],\n",
       "       [ 1.35567749,  0.99701343,  0.6153094 , -0.91369028, -0.49906513]])"
      ]
     },
     "execution_count": 26,
     "metadata": {},
     "output_type": "execute_result"
    }
   ],
   "source": [
    "scale.transform(X_train)\n",
    "scale.transform(X_test)"
   ]
  },
  {
   "cell_type": "markdown",
   "id": "85557421",
   "metadata": {},
   "source": [
    "#### Creation of model"
   ]
  },
  {
   "cell_type": "code",
   "execution_count": 27,
   "id": "1ac5145b",
   "metadata": {},
   "outputs": [],
   "source": [
    "lr=ElasticNetCV(max_iter=10000,cv=6,l1_ratio=0.35,eps=0.000001)"
   ]
  },
  {
   "cell_type": "code",
   "execution_count": 28,
   "id": "511ead31",
   "metadata": {},
   "outputs": [
    {
     "data": {
      "text/html": [
       "<div>\n",
       "<style scoped>\n",
       "    .dataframe tbody tr th:only-of-type {\n",
       "        vertical-align: middle;\n",
       "    }\n",
       "\n",
       "    .dataframe tbody tr th {\n",
       "        vertical-align: top;\n",
       "    }\n",
       "\n",
       "    .dataframe thead th {\n",
       "        text-align: right;\n",
       "    }\n",
       "</style>\n",
       "<table border=\"1\" class=\"dataframe\">\n",
       "  <thead>\n",
       "    <tr style=\"text-align: right;\">\n",
       "      <th></th>\n",
       "      <th>age</th>\n",
       "      <th>sex</th>\n",
       "      <th>bmi</th>\n",
       "      <th>children</th>\n",
       "      <th>smoker</th>\n",
       "    </tr>\n",
       "  </thead>\n",
       "  <tbody>\n",
       "    <tr>\n",
       "      <th>1006</th>\n",
       "      <td>28</td>\n",
       "      <td>1</td>\n",
       "      <td>29.260</td>\n",
       "      <td>2</td>\n",
       "      <td>0</td>\n",
       "    </tr>\n",
       "    <tr>\n",
       "      <th>1263</th>\n",
       "      <td>43</td>\n",
       "      <td>0</td>\n",
       "      <td>29.900</td>\n",
       "      <td>1</td>\n",
       "      <td>0</td>\n",
       "    </tr>\n",
       "    <tr>\n",
       "      <th>1293</th>\n",
       "      <td>46</td>\n",
       "      <td>1</td>\n",
       "      <td>25.745</td>\n",
       "      <td>3</td>\n",
       "      <td>0</td>\n",
       "    </tr>\n",
       "    <tr>\n",
       "      <th>519</th>\n",
       "      <td>31</td>\n",
       "      <td>1</td>\n",
       "      <td>30.875</td>\n",
       "      <td>0</td>\n",
       "      <td>0</td>\n",
       "    </tr>\n",
       "    <tr>\n",
       "      <th>1201</th>\n",
       "      <td>46</td>\n",
       "      <td>1</td>\n",
       "      <td>40.375</td>\n",
       "      <td>2</td>\n",
       "      <td>0</td>\n",
       "    </tr>\n",
       "    <tr>\n",
       "      <th>...</th>\n",
       "      <td>...</td>\n",
       "      <td>...</td>\n",
       "      <td>...</td>\n",
       "      <td>...</td>\n",
       "      <td>...</td>\n",
       "    </tr>\n",
       "    <tr>\n",
       "      <th>1252</th>\n",
       "      <td>20</td>\n",
       "      <td>1</td>\n",
       "      <td>27.300</td>\n",
       "      <td>0</td>\n",
       "      <td>1</td>\n",
       "    </tr>\n",
       "    <tr>\n",
       "      <th>73</th>\n",
       "      <td>58</td>\n",
       "      <td>1</td>\n",
       "      <td>32.010</td>\n",
       "      <td>1</td>\n",
       "      <td>0</td>\n",
       "    </tr>\n",
       "    <tr>\n",
       "      <th>790</th>\n",
       "      <td>39</td>\n",
       "      <td>0</td>\n",
       "      <td>41.800</td>\n",
       "      <td>0</td>\n",
       "      <td>0</td>\n",
       "    </tr>\n",
       "    <tr>\n",
       "      <th>629</th>\n",
       "      <td>44</td>\n",
       "      <td>0</td>\n",
       "      <td>38.950</td>\n",
       "      <td>0</td>\n",
       "      <td>1</td>\n",
       "    </tr>\n",
       "    <tr>\n",
       "      <th>704</th>\n",
       "      <td>47</td>\n",
       "      <td>0</td>\n",
       "      <td>29.545</td>\n",
       "      <td>1</td>\n",
       "      <td>0</td>\n",
       "    </tr>\n",
       "  </tbody>\n",
       "</table>\n",
       "<p>1003 rows × 5 columns</p>\n",
       "</div>"
      ],
      "text/plain": [
       "      age  sex     bmi  children  smoker\n",
       "1006   28    1  29.260         2       0\n",
       "1263   43    0  29.900         1       0\n",
       "1293   46    1  25.745         3       0\n",
       "519    31    1  30.875         0       0\n",
       "1201   46    1  40.375         2       0\n",
       "...   ...  ...     ...       ...     ...\n",
       "1252   20    1  27.300         0       1\n",
       "73     58    1  32.010         1       0\n",
       "790    39    0  41.800         0       0\n",
       "629    44    0  38.950         0       1\n",
       "704    47    0  29.545         1       0\n",
       "\n",
       "[1003 rows x 5 columns]"
      ]
     },
     "execution_count": 28,
     "metadata": {},
     "output_type": "execute_result"
    }
   ],
   "source": [
    "X_train"
   ]
  },
  {
   "cell_type": "code",
   "execution_count": 29,
   "id": "71b2fff9",
   "metadata": {},
   "outputs": [
    {
     "data": {
      "text/plain": [
       "ElasticNetCV(cv=6, eps=1e-06, l1_ratio=0.35, max_iter=10000)"
      ]
     },
     "execution_count": 29,
     "metadata": {},
     "output_type": "execute_result"
    }
   ],
   "source": [
    "lr.fit(X_train,y_train)"
   ]
  },
  {
   "cell_type": "markdown",
   "id": "15654725",
   "metadata": {},
   "source": [
    "#### Testing the model on Test set"
   ]
  },
  {
   "cell_type": "code",
   "execution_count": 30,
   "id": "7fb77ff8",
   "metadata": {},
   "outputs": [],
   "source": [
    "y_pred=lr.predict(X_test)"
   ]
  },
  {
   "cell_type": "code",
   "execution_count": 31,
   "id": "ce3a2d06",
   "metadata": {},
   "outputs": [],
   "source": [
    "from sklearn.metrics import mean_absolute_error,mean_squared_error"
   ]
  },
  {
   "cell_type": "code",
   "execution_count": 36,
   "id": "5123091e",
   "metadata": {},
   "outputs": [],
   "source": [
    "MAE = mean_absolute_error(y_test,y_pred)\n",
    "MSE = mean_squared_error (y_test,y_pred)\n",
    "RMSE = MSE**0.5"
   ]
  },
  {
   "cell_type": "code",
   "execution_count": 37,
   "id": "7f0f1acc",
   "metadata": {},
   "outputs": [
    {
     "data": {
      "text/plain": [
       "49014967.77460593"
      ]
     },
     "execution_count": 37,
     "metadata": {},
     "output_type": "execute_result"
    }
   ],
   "source": [
    "MSE\n",
    "\n"
   ]
  },
  {
   "cell_type": "code",
   "execution_count": 38,
   "id": "3238d047",
   "metadata": {},
   "outputs": [
    {
     "data": {
      "text/plain": [
       "7001.069045124889"
      ]
     },
     "execution_count": 38,
     "metadata": {},
     "output_type": "execute_result"
    }
   ],
   "source": [
    "RMSE"
   ]
  },
  {
   "cell_type": "code",
   "execution_count": 35,
   "id": "93161d57",
   "metadata": {},
   "outputs": [
    {
     "data": {
      "text/plain": [
       "5202.232198156559"
      ]
     },
     "execution_count": 35,
     "metadata": {},
     "output_type": "execute_result"
    }
   ],
   "source": [
    "MAE"
   ]
  }
 ],
 "metadata": {
  "kernelspec": {
   "display_name": "Python 3 (ipykernel)",
   "language": "python",
   "name": "python3"
  },
  "language_info": {
   "codemirror_mode": {
    "name": "ipython",
    "version": 3
   },
   "file_extension": ".py",
   "mimetype": "text/x-python",
   "name": "python",
   "nbconvert_exporter": "python",
   "pygments_lexer": "ipython3",
   "version": "3.9.7"
  }
 },
 "nbformat": 4,
 "nbformat_minor": 5
}
